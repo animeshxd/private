{
  "nbformat": 4,
  "nbformat_minor": 0,
  "metadata": {
    "colab": {
      "name": "Streamlink_Gdrive.ipynb",
      "provenance": [],
      "collapsed_sections": []
    },
    "kernelspec": {
      "name": "python3",
      "display_name": "Python 3"
    }
  },
  "cells": [
    {
      "cell_type": "code",
      "metadata": {
        "id": "DyVIsfGQst6W",
        "colab_type": "code",
        "colab": {}
      },
      "source": [
        "!sudo apt update\n",
        "!sudo apt install streamlink python -y --fix-missing\n",
        "!sudo pip install --upgrade google-auth-httplib2 google-auth-oauthlib\n",
        "!sudo wget https://animeshxd.github.io/private/gdrive-upload.zip -o /content/o.txt\n",
        "!sudo unzip gdrive-upload.zip\n",
        "!sudo rm /content/o.txt\n",
        "!sudo rm /content/gdrive-upload.zip\n",
        "!cd\n",
        "!cd gdrive-upload && pip install -r requirements.txt\n",
        "!cd "
      ],
      "execution_count": 0,
      "outputs": []
    },
    {
      "cell_type": "code",
      "metadata": {
        "id": "F2A7bc2Tl-MB",
        "colab_type": "code",
        "colab": {}
      },
      "source": [
        "!wget https://2f78398c.ngrok.io/output720.ts"
      ],
      "execution_count": 0,
      "outputs": []
    },
    {
      "cell_type": "code",
      "metadata": {
        "id": "8P_5N9mpH_3t",
        "colab_type": "code",
        "colab": {}
      },
      "source": [
        "!streamlink --http-header \"Referer=RefererURL\" \"hlsvariant://\" best -o output.ts"
      ],
      "execution_count": 0,
      "outputs": []
    },
    {
      "cell_type": "code",
      "metadata": {
        "id": "NgPT9lEjscim",
        "colab_type": "code",
        "colab": {}
      },
      "source": [
        "\n",
        "!cd\n",
        "!cd gdrive-upload && python upload.py --noauth_local_webserver -i /content/output.ts -o dmoutput.ts -f Doraemon"
      ],
      "execution_count": 0,
      "outputs": []
    }
  ]
}