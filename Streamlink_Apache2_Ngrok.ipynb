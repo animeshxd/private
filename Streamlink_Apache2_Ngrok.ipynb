{
  "nbformat": 4,
  "nbformat_minor": 0,
  "metadata": {
    "colab": {
      "name": "Streamlink_Apache2_Ngrok.ipynb",
      "provenance": [],
      "collapsed_sections": []
    },
    "kernelspec": {
      "name": "python3",
      "display_name": "Python 3"
    }
  },
  "cells": [
    {
      "cell_type": "code",
      "metadata": {
        "id": "Y1CwJowk8AyM",
        "colab_type": "code",
        "colab": {
          "base_uri": "https://localhost:8080/",
          "height": 34
        },
        "outputId": "56e17b4a-f4c6-482d-a452-b22a8b135125"
      },
      "source": [
        "!echo \"use 'mega-put' to upload & use 'mega-login email password' to login\""
      ],
      "execution_count": 4,
      "outputs": [
        {
          "output_type": "stream",
          "text": [
            "use 'mega-put' to upload & use 'mega-login email password' to login\n"
          ],
          "name": "stdout"
        }
      ]
    },
    {
      "cell_type": "code",
      "metadata": {
        "id": "Z-PRhHzvs_5I",
        "colab_type": "code",
        "colab": {}
      },
      "source": [
        "!sudo apt update -y\n",
        "!sudo apt upgrade -y\n",
        "!sudo apt install streamlink unzip apache2 -y --fix-missing\n",
        "!curl -o ngrok.zip https://bin.equinox.io/c/4VmDzA7iaHb/ngrok-stable-linux-amd64.zip\n",
        "!unzip ngrok.zip\n",
        "!./ngrok authtoken 4rYuvATyw19Cmk3yuxJDe_4SssNTEb27EE1U4es17pJ\n",
        "!sudo service apache2 start"
      ],
      "execution_count": 0,
      "outputs": []
    },
    {
      "cell_type": "markdown",
      "metadata": {
        "id": "3gXi_oJZ1L25",
        "colab_type": "text"
      },
      "source": [
        "`streamlink --http-header \"Referer=RefererURL\" \"hlsvariant://List.m3u8URLXHR\" best -o output.ts`\n",
        "\n",
        "\n"
      ]
    },
    {
      "cell_type": "code",
      "metadata": {
        "id": "HnO04VONtLHg",
        "colab_type": "code",
        "colab": {}
      },
      "source": [
        "!streamlink --http-header \"Referer=x\" \"hlsvariant://y\" best -o output.ts"
      ],
      "execution_count": 0,
      "outputs": []
    },
    {
      "cell_type": "code",
      "metadata": {
        "id": "nv1T_xj0tF6v",
        "colab_type": "code",
        "colab": {}
      },
      "source": [
        "!echo \"MOVING output.ts\"\n",
        "!sudo mv output.ts /var/www/html/\n",
        "!echo \"Sucessfully Moved output.ts\"\n",
        "!echo \"Removing index.html from /var/www/html/\"\n",
        "!sudo rm /var/www/html/index.html\n",
        "!echo \"sucessfully Removed index.html\"\n",
        "!echo \"Downloading index.html\"\n",
        "!sudo wget https://animeshxd.github.io/private/index.html -o output.txt --no-check-certificate\n",
        "!echo \"Sucessfully Downloaded index.html\"\n",
        "!rm output.txt\n",
        "!echo \"moving index.html to /var/www/html/\"\n",
        "!mv /content/index.html /var/www/html/\n",
        "!echo \"sucessfully Moved index.html\"\n",
        "!cd\n",
        "!echo \"Starting Ngrok Server at port 80\"\n",
        "!echo \"visit https://dashboard.ngrok.com/status/tunnels\"\n",
        "!./ngrok http 80 "
      ],
      "execution_count": 0,
      "outputs": []
    },
    {
      "cell_type": "code",
      "metadata": {
        "id": "4oLp1PkGRMJd",
        "colab_type": "code",
        "colab": {}
      },
      "source": [
        ""
      ],
      "execution_count": 0,
      "outputs": []
    }
  ]
}